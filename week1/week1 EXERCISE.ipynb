{
 "cells": [
  {
   "cell_type": "markdown",
   "id": "fe12c203-e6a6-452c-a655-afb8a03a4ff5",
   "metadata": {},
   "source": [
    "# End of week 1 exercise\n",
    "\n",
    "To demonstrate your familiarity with OpenAI API, and also Ollama, build a tool that takes a technical question,  \n",
    "and responds with an explanation. This is a tool that you will be able to use yourself during the course!"
   ]
  },
  {
   "cell_type": "code",
   "execution_count": 9,
   "id": "c1070317-3ed9-4659-abe3-828943230e03",
   "metadata": {},
   "outputs": [],
   "source": [
    "# Import dependencies\n",
    "from openai import OpenAI\n",
    "from dotenv import load_dotenv\n",
    "from IPython.display import Markdown, display, update_display"
   ]
  },
  {
   "cell_type": "code",
   "execution_count": 10,
   "id": "4a456906-915a-4bfd-bb9d-57e505c5093f",
   "metadata": {},
   "outputs": [],
   "source": [
    "# Constants\n",
    "MODEL_GPT = 'gpt-4o-mini'\n",
    "MODEL_LLAMA = 'llama3.2'"
   ]
  },
  {
   "cell_type": "code",
   "execution_count": 11,
   "id": "25c8748e-cee4-45a2-81c6-bc601e7a3a8a",
   "metadata": {},
   "outputs": [
    {
     "data": {
      "text/plain": [
       "True"
      ]
     },
     "execution_count": 11,
     "metadata": {},
     "output_type": "execute_result"
    }
   ],
   "source": [
    "# Environment setup\n",
    "load_dotenv()"
   ]
  },
  {
   "cell_type": "code",
   "execution_count": 12,
   "id": "a8d7923c-5f28-4c30-8556-342d7c8497c1",
   "metadata": {},
   "outputs": [],
   "source": [
    "# System Prompt\n",
    "system_prompt = \"\"\"\n",
    "You are an expert tutor with the ability to break down programming concepts and codes into easy to understand words.\n",
    "You will be asked programming related questions and your task at hand is to answer the question in simple terms such that even a beginner at programming can understand.\n",
    "If the query is related to a code snippet break it down into easy to understand bits and in case of conceptual questoins, explain it with examples and analogies.\n",
    "Also follow up with the formal definition in case of conceptual questions for the user to actually connect it to computer lingo. Answer in Markdown\n",
    "\"\"\""
   ]
  },
  {
   "cell_type": "code",
   "execution_count": 16,
   "id": "ae88ab81-4cf0-455a-8b1e-717e37d14586",
   "metadata": {},
   "outputs": [],
   "source": [
    "# Create openai instance\n",
    "openai = OpenAI()\n",
    "\n",
    "# Create user prompt function\n",
    "def create_user_prompt(question):\n",
    "    user_prompt = f\"Question: {question}\"\n",
    "    return user_prompt\n",
    "\n",
    "# Create function to call GPT and get response\n",
    "def answer_user_query(question):\n",
    "    stream = openai.chat.completions.create(\n",
    "        model=MODEL_GPT,\n",
    "        messages=[\n",
    "            {\"role\": \"system\", \"content\": system_prompt},\n",
    "            {\"role\": \"user\", \"content\": create_user_prompt(question)}\n",
    "        ],\n",
    "        stream=True\n",
    "    )\n",
    "    response = \"\"\n",
    "    display_handle = display(Markdown(\"\"), display_id=True)\n",
    "    for chunk in stream:\n",
    "        response += chunk.choices[0].delta.content or ''\n",
    "        response = response.replace(\"```\",\"\").replace(\"markdown\", \"\")\n",
    "        update_display(Markdown(response), display_id=display_handle.display_id)\n"
   ]
  },
  {
   "cell_type": "code",
   "execution_count": 17,
   "id": "3f0d0137-52b0-47a8-81a8-11a90a010798",
   "metadata": {},
   "outputs": [],
   "source": [
    "# here is the question; type over this to ask something new\n",
    "\n",
    "question = \"\"\"\n",
    "Please explain what this code does and why:\n",
    "yield from {book.get(\"author\") for book in books if book.get(\"author\")}\n",
    "\"\"\""
   ]
  },
  {
   "cell_type": "code",
   "execution_count": 18,
   "id": "60ce7000-a4a5-4cce-a261-e75ef45063b4",
   "metadata": {},
   "outputs": [
    {
     "data": {
      "text/markdown": [
       "Sure! Let's break down this code step by step to understand what it does.\n",
       "\n",
       "### Code Breakdown\n",
       "\n",
       "1. **Set Comprehension**: \n",
       "   - `{book.get(\"author\") for book in books if book.get(\"author\")}` is called a \"set comprehension.\"\n",
       "   - This part creates a set (which is a collection that can store unique items) of the authors of books.\n",
       "   - It goes through a collection named `books`, checking each `book` one by one.\n",
       "\n",
       "2. **`book.get(\"author\")`**:\n",
       "   - For each `book`, it tries to get the value associated with the key `\"author\"`.\n",
       "   - The `get` method is safe because if the `\"author\"` key doesn't exist, it will return `None` instead of causing an error.\n",
       "\n",
       "3. **Filtering with `if book.get(\"author\")`**:\n",
       "   - The `if book.get(\"author\")` part ensures that we only include books that indeed have an author. \n",
       "   - If a book does not have an author, it won't be included in the set.\n",
       "\n",
       "4. **`yield from ...`**: \n",
       "   - The `yield from` statement is used in Python for generator functions. \n",
       "   - It allows the generator to yield all values from another iterable (in this case, the set of authors created above).\n",
       "   - So, instead of returning the entire set at once, it will yield each author one at a time.\n",
       "\n",
       "### Putting It All Together\n",
       "\n",
       "- **What does the code do?**\n",
       "  This code goes through a list of books, collects the authors (removing any duplicates), and then yields each author one by one when called.\n",
       "\n",
       "### Example\n",
       "\n",
       "Imagine you have a list of books like this:\n",
       "\n",
       "python\n",
       "books = [\n",
       "    {\"title\": \"Book One\", \"author\": \"Author A\"},\n",
       "    {\"title\": \"Book Two\", \"author\": \"Author B\"},\n",
       "    {\"title\": \"Book Three\"}  # No author\n",
       "]\n",
       "\n",
       "\n",
       "Using the code given, the output would be:\n",
       "\n",
       "\n",
       "Author A\n",
       "Author B\n",
       "\n",
       "\n",
       "- It skips the third book because it has no author.\n",
       "\n",
       "### Formal Definition\n",
       "\n",
       "- **Generator Functions**: A special type of function in Python that allows you to declare a function that behaves like an iterator. It enables you to iterate over a sequence of values rather than returning a single value all at once.\n",
       "- **Set Comprehension**: A concise way to create a set in Python using a single line of code with a readable format, which often contains expressions followed by a `for` loop and optional conditions.\n",
       "\n",
       "I hope this makes it clearer! Let me know if you have any more questions!"
      ],
      "text/plain": [
       "<IPython.core.display.Markdown object>"
      ]
     },
     "metadata": {},
     "output_type": "display_data"
    }
   ],
   "source": [
    "# Get gpt-4o-mini to answer, with streaming\n",
    "answer_user_query(question)"
   ]
  },
  {
   "cell_type": "code",
   "execution_count": null,
   "id": "8f7c8ea8-4082-4ad0-8751-3301adcf6538",
   "metadata": {},
   "outputs": [],
   "source": [
    "# Get Llama 3.2 to answer"
   ]
  }
 ],
 "metadata": {
  "kernelspec": {
   "display_name": "Python 3 (ipykernel)",
   "language": "python",
   "name": "python3"
  },
  "language_info": {
   "codemirror_mode": {
    "name": "ipython",
    "version": 3
   },
   "file_extension": ".py",
   "mimetype": "text/x-python",
   "name": "python",
   "nbconvert_exporter": "python",
   "pygments_lexer": "ipython3",
   "version": "3.12.10"
  }
 },
 "nbformat": 4,
 "nbformat_minor": 5
}
